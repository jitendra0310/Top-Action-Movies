{
 "cells": [
  {
   "cell_type": "markdown",
   "metadata": {},
   "source": [
    " ## <center>TOP ACTION MOVIES</center>"
   ]
  },
  {
   "cell_type": "markdown",
   "metadata": {},
   "source": [
    "using the famous rotten tomatoes website, we scrape the top 140 action movies and their details based on their rotten tomato score."
   ]
  },
  {
   "cell_type": "markdown",
   "metadata": {},
   "source": [
    "This web scraping is processed using Python packages, \"requests\" and \"beautifulSoup\""
   ]
  },
  {
   "cell_type": "markdown",
   "metadata": {},
   "source": [
    "### Step-1 Setup\n",
    "\n",
    "In this step, we will setup our environment for scraping the website."
   ]
  },
  {
   "cell_type": "code",
   "execution_count": 3,
   "metadata": {},
   "outputs": [],
   "source": [
    "from bs4 import BeautifulSoup\n",
    "import requests\n",
    "import pandas as pd"
   ]
  },
  {
   "cell_type": "markdown",
   "metadata": {},
   "source": [
    "Using rotten tomatoes website for top action movies to watch, and using the 'requests' package's '.get' method, we get the html file of the page"
   ]
  },
  {
   "cell_type": "code",
   "execution_count": 6,
   "metadata": {},
   "outputs": [
    {
     "data": {
      "text/plain": [
       "b'<!DOCTYPE html>\\n<html lang=\"en-US\">\\n    <head prefix=\"og: http://ogp.me/ns# flixstertomatoes: http://ogp.me/ns/apps/flixstertomatoes#\">\\n    <meta http-equiv=\"content-type\" content=\"text/html; charset=UTF-8\" />\\n        <meta property=\\'og.description\\' content=\"From John Wick and Die Hard to Mad Max and Atomic Blonde, these best action movies ever will thrill you and get the adrenaline pumping!\" />\\n    <meta name=\\'description\\' content=\"From John Wick and Die Hard to Mad Max and Atomic Blonde, these best action movies ever will thrill you and get the adrenaline pumping!\" />\\n    <meta property=\\'og:title\\' content=\"140 Essential Action Movies To Watch Now\" />\\n    <meta property=\\'og:type\\' content=\"article\" />\\n    <meta property=\\'og:image\\' content=\"https://s3-us-west-2.amazonaws.com/flx-editorial-wordpress/wp-content/uploads/2019/06/06180025/RT_140_ESSENTIAL_ACTION_600x314.jpg\" />\\n    <meta property=\\'og:url\\' content=\"https://editorial.rottentomatoes.com/guide/140-essential-action-movies-to-watch-now/\" />\\n    <meta name=\\'editorialID\\' content=\"175594\"/>\\n    <meta property=\\'fb:app_id\\' content=\"326803741017\"/>\\n\\n    <meta property=\\'twitter:card\\' content=\"summary_large_image\" />\\n    <meta name=\"twitter:site\" content=\"@rottentomatoes\" />\\n    <meta name=\"twitter:title\" content=\"140 Essential Action Movies To Watch Now\" />\\n    <meta name=\"twitter:description\" content=\"From John Wick and Die Hard to Mad Max and Atomic Blonde, these best action movies ever will thrill you and get the adrenaline pumping!\" />\\n    <meta name=\"twitter:image\" content=\"https://s3-us-west-2.amazonaws.com/flx-editorial-wordpress/wp-content/uploads/2019/06/06180025/RT_140_ESSENTIAL_ACTION_600x314.jpg\" />\\n\\n    \\n                    <link rel=\"stylesheet\" type=\"text/css\" href=\"http://editorial.rottentomatoes.com/wp-content/themes/RottenTomatoes/css/guide.css\" media=\"screen\" />\\n    \\n    <title>  140 Essential Action Movies To Watch Now << Rotten Tomatoes &#8211; Movie and TV News</title>\\n    <meta http-equiv=\"X-UA-Compatible\" content=\"IE=edge\">\\n    <meta name=\"viewport\" content=\"width=device-width, initial-scale=1\">\\n    <link rel=\"pingback\" href=\"http://editorial.rottentomatoes.com/xmlrpc.php\" />\\n    <!-- Make customizable later -->\\n    <link href=\"https://static.rottentomatoes.com/static/styles/bootstrapLess/rt_bootstrap.css\" rel=\"stylesheet\"/>\\n    <link href=\"https://static.rottentomatoes.com/v/less/?f=/styles/rt_redesign.less\" rel=\"stylesheet\"/>\\n    <link rel=\"stylesheet\" href=\"http://editorial.rottentomatoes.com/wp-content/themes/RottenTomatoes/css/rtmobilenav.css\">\\n    <link href=\"https://static.rottentomatoes.com/v/less/?f=/styles/hub.less\" rel=\"stylesheet\"/>\\n    <link href=\"//ajax.googleapis.com/ajax/libs/jqueryui/1.11.3/themes/smoothness/jquery-ui.min.css\" rel=\"stylesheet\"/>\\n    <link rel=\"icon\" type=\"image/x-icon\" href=\"https://static.rottentomatoes.com/static/images/icons/favicon.ico\">\\n    <link rel=\"stylesheet\" href=\"/wp-content/themes/RottenTomatoes/css/visual-refresh.css\">\\n\\n        <script>\\n        // Push column to dataLayer\\n        var dataLayer = dataLayer || [];\\n\\n        dataLayer.push({\\n          \"post-url\": \"https:\\\\/\\\\/editorial.rottentomatoes.com\\\\/guide\\\\/140-essential-action-movies-to-watch-now\\\\/\",\\n          \"column\": \"40\",\\n          \"hub\":\"175594\",\\n          \"author\": \"alex-vo\",\\n          \"related-tv-series-ids\": [],\\n          \"related-movie-ids\": [],\\n          \"publication-date\": \"06\\\\/07\\\\/2019\",\\n          \"related-celebrity-ids\": [],\\n          \"franchise\": \"\",\\n          \"tags\": \"\"        });\\n    </script>\\n    \\n    <script>\\n        var mpscall = mpscall || {};\\n        mpscall = {\\n            \"site\":\"rottentomatoes-web\",\\n            \"field[env]\": \"production\", // execution environment\\n            \"type\": \"guide\",\\n            \"cat\": \"guide|All-Time-Lists\",\\n            \"cag[hub]\": \"175594\",\\n        };\\n\\n        var mpsopts = {\\n         \"host\":\"mps.nbcuni.com\",\\n         \"updatecorrelator\":true\\n        }\\n\\n        var BK = {};\\n\\n        BK.PageName=\"https:\\\\/\\\\/editorial.rottentomatoes.com\\\\/guide\\\\/140-essential-action-movies-to-watch-now\\\\/\";\\n        BK.SiteSection=\"guide\";\\n        BK.ArticleTags=\"\";\\n        BK.RelatedMovieId=[];\\n        BK.RelatedTalentId=[];\\n        BK.RelatedTVSeriesId=[];\\n\\n        var mps=mps||{};mps._ext=mps._ext||{};mps._adsheld=[];mps._queue=mps._queue||{};mps._queue.mpsloaded=mps._queue.mpsloaded||[];mps._queue.mpsinit=mps._queue.mpsinit||[];mps._queue.gptloaded=mps._queue.gptloaded||[];mps._queue.adload=mps._queue.adload||[];mps._queue.adclone=mps._queue.adclone||[];mps._queue.adview=mps._queue.adview||[];mps._queue.refreshads=mps._queue.refreshads||[];mps.__timer=Date.now();mps.__intcode=\"v2\";if(typeof mps.getAd!=\"function\")mps.getAd=function(adunit){if(typeof adunit!=\"string\")return false;var slotid=\"mps-getad-\"+adunit.replace(/\\\\W/g,\"\");if(!mps._ext||!mps._ext.loaded){mps._queue.gptloaded.push(function(){typeof mps._gptfirst==\"function\"&&mps._gptfirst(adunit,slotid);mps.insertAd(\"#\"+slotid,adunit)});mps._adsheld.push(ad'"
      ]
     },
     "execution_count": 6,
     "metadata": {},
     "output_type": "execute_result"
    }
   ],
   "source": [
    "base_url='http://editorial.rottentomatoes.com/guide/140-essential-action-movies-to-watch-now/2/'\n",
    "r = requests.get(base_url)\n",
    "html=r.content\n",
    "html[:5000]"
   ]
  },
  {
   "cell_type": "markdown",
   "metadata": {},
   "source": [
    "From the above output, it doesn't look understandable. so, to make it more understandable, we will use the BeautifulSoup module, to parse the html file.\n",
    "\n",
    "BeautifulSoup has three parsers in total, and its documentation suggests, 'lxml' is their best parser"
   ]
  },
  {
   "cell_type": "code",
   "execution_count": 14,
   "metadata": {},
   "outputs": [],
   "source": [
    "soup = BeautifulSoup(html, \"lxml\")\n"
   ]
  },
  {
   "cell_type": "markdown",
   "metadata": {},
   "source": [
    "From above outputs, we can see that the parsed file is much more arranged and understandable for us to locate required classes and tags.\n",
    "\n",
    "For crosschecking, we can write the parsed html to a file, and save on our local machine and check if it was parsed correctly.\n",
    "\n",
    "Now, once we parse the html file, we need to find out which part of the file do we have the required information.\n",
    "we need **Title, released year, Director, rotten tomatoes score, adjusted score, Synopsis, Description and Cast of the film**"
   ]
  },
  {
   "cell_type": "markdown",
   "metadata": {},
   "source": [
    "\n",
    "Now, to find out which part of the html has these data, we need to use a brower, (I used Chrome) right click on the title and select 'Inspect' on the dropdown, which will give us the html page in the developers column.\n",
    "\n",
    "Upon inspection, we found that all the related data is under the **<div class='col-sm-18 col-full-xs countdown-item-content'**\n",
    "\n",
    "Using BeautifulSoups' find_all method we will retrive with that particular class name and tag from the html file"
   ]
  },
  {
   "cell_type": "code",
   "execution_count": 13,
   "metadata": {},
   "outputs": [],
   "source": [
    "divs=soup.find_all('div',class_='col-sm-18 col-full-xs countdown-item-content')\n"
   ]
  },
  {
   "cell_type": "markdown",
   "metadata": {},
   "source": [
    "### Step -2\n",
    "\n",
    "In this step, we will filter and extract the required content from the html file we parsed\n",
    "\n",
    "once we got retrieved the related content, we need to find the part where the movies details that we need are present.\n",
    "\n",
    "Upon inspection we see that the **title, year and score** are present in the **href** with **<a** tag\n",
    "\n",
    "Using list comprehension, and fin_all method we filter all the lines with **<a** tag and **h2** ref"
   ]
  },
  {
   "cell_type": "code",
   "execution_count": 17,
   "metadata": {},
   "outputs": [
    {
     "data": {
      "text/plain": [
       "list"
      ]
     },
     "execution_count": 17,
     "metadata": {},
     "output_type": "execute_result"
    }
   ],
   "source": [
    "headings=[div.find('h2') for div in divs]\n",
    "type(headings)"
   ]
  },
  {
   "cell_type": "markdown",
   "metadata": {},
   "source": [
    "We see that the is a list, so we take the first 3 elements of the list using indexing and study the contents of the elements\n"
   ]
  },
  {
   "cell_type": "code",
   "execution_count": 18,
   "metadata": {},
   "outputs": [
    {
     "data": {
      "text/plain": [
       "[<h2><a href=\"https://www.rottentomatoes.com/m/1018009-running_scared/\">Running Scared</a> <span class=\"subtle start-year\">(1986)</span> <span class=\"icon tiny fresh\" title=\"Fresh\"></span> <span class=\"tMeterScore\">60%</span></h2>,\n",
       " <h2><a href=\"https://www.rottentomatoes.com/m/equilibrium/\">Equilibrium</a> <span class=\"subtle start-year\">(2002)</span> <span class=\"icon tiny rotten\" title=\"Rotten\"></span> <span class=\"tMeterScore\">40%</span></h2>,\n",
       " <h2><a href=\"https://www.rottentomatoes.com/m/hero/\">Hero</a> <span class=\"subtle start-year\">(2004)</span> <span class=\"icon tiny certified\" title=\"Certified Fresh\"></span> <span class=\"tMeterScore\">95%</span></h2>,\n",
       " <h2><a href=\"https://www.rottentomatoes.com/m/1017666-road_house/\">Road House</a> <span class=\"subtle start-year\">(1989)</span> <span class=\"icon tiny rotten\" title=\"Rotten\"></span> <span class=\"tMeterScore\">39%</span></h2>]"
      ]
     },
     "execution_count": 18,
     "metadata": {},
     "output_type": "execute_result"
    }
   ],
   "source": [
    "headings[0:4]"
   ]
  },
  {
   "cell_type": "markdown",
   "metadata": {},
   "source": [
    "once we filter all the **h2** elements from the html, we observer that\n",
    "\n",
    "**title** is in **<a** tag,\n",
    "\n",
    "**year** is in **<span** tag with **class='subtle start-year'**\n",
    "\n",
    "**score** is in **<span** tag with **class='tMeterScore**\n",
    "\n",
    "Using list comprehensions, we will filter the desired content"
   ]
  },
  {
   "cell_type": "code",
   "execution_count": 19,
   "metadata": {},
   "outputs": [
    {
     "data": {
      "text/plain": [
       "['Running Scared',\n",
       " 'Equilibrium',\n",
       " 'Hero',\n",
       " 'Road House',\n",
       " 'Unstoppable',\n",
       " 'Shaft',\n",
       " 'The Villainess (Ak-Nyeo)',\n",
       " 'Highlander',\n",
       " 'Die Hard 2',\n",
       " 'National Treasure']"
      ]
     },
     "execution_count": 19,
     "metadata": {},
     "output_type": "execute_result"
    }
   ],
   "source": [
    "movie_names=[heading.find('a').string for heading in headings]\n",
    "movie_names[:10]"
   ]
  },
  {
   "cell_type": "code",
   "execution_count": 20,
   "metadata": {},
   "outputs": [
    {
     "data": {
      "text/plain": [
       "['(1986)',\n",
       " '(2002)',\n",
       " '(2004)',\n",
       " '(1989)',\n",
       " '(2010)',\n",
       " '(1971)',\n",
       " '(2017)',\n",
       " '(1986)',\n",
       " '(1990)',\n",
       " '(2004)']"
      ]
     },
     "execution_count": 20,
     "metadata": {},
     "output_type": "execute_result"
    }
   ],
   "source": [
    "movie_years=[year.find('span', class_='subtle start-year').string for year in headings]\n",
    "movie_years[:10]"
   ]
  },
  {
   "cell_type": "markdown",
   "metadata": {},
   "source": [
    "we notice that the years have '(',')' around them and are of string type, we need to remove those brackets and convert them into int data type"
   ]
  },
  {
   "cell_type": "code",
   "execution_count": 22,
   "metadata": {
    "scrolled": true
   },
   "outputs": [
    {
     "data": {
      "text/plain": [
       "[1986, 2002, 2004, 1989, 2010, 1971, 2017, 1986, 1990, 2004]"
      ]
     },
     "execution_count": 22,
     "metadata": {},
     "output_type": "execute_result"
    }
   ],
   "source": [
    "years=[year.strip('()') for year in movie_years]\n",
    "years= [int(year) for year in years]\n",
    "years[:10]"
   ]
  },
  {
   "cell_type": "markdown",
   "metadata": {},
   "source": [
    "The scores have '%' and in the format string, so we will use strip() method to remove the % sign and convert them into interger"
   ]
  },
  {
   "cell_type": "code",
   "execution_count": 23,
   "metadata": {},
   "outputs": [
    {
     "data": {
      "text/plain": [
       "[60, 40, 95, 39, 86]"
      ]
     },
     "execution_count": 23,
     "metadata": {},
     "output_type": "execute_result"
    }
   ],
   "source": [
    "t_score=[heading.find('span',class_=\"tMeterScore\").string for heading in headings]\n",
    "original_scores=[int(x.strip('%')) for x in t_score]\n",
    "original_scores[0:5]"
   ]
  },
  {
   "cell_type": "markdown",
   "metadata": {},
   "source": [
    "Now that we got all the important data we needed from that particular class. Now we need **Consensus**. Again by inspecting the the html page, we find that consensus is in **'div tag** and  **class_='info critics-consensus**\n",
    "\n",
    "Using BeasutifulSoup's find_all method we filter the class"
   ]
  },
  {
   "cell_type": "code",
   "execution_count": 24,
   "metadata": {},
   "outputs": [
    {
     "data": {
      "text/plain": [
       "<div class=\"info critics-consensus\"><span class=\"descriptor\">Critics Consensus:</span> Running Scared struggles to strike a consistent balance between violent action and humor, but the chemistry between its well-matched leads keeps things entertaining.</div>"
      ]
     },
     "execution_count": 24,
     "metadata": {},
     "output_type": "execute_result"
    }
   ],
   "source": [
    "consensus=[div.find('div', class_='info critics-consensus') for div in divs]\n",
    "consensus[0]"
   ]
  },
  {
   "cell_type": "markdown",
   "metadata": {},
   "source": [
    "Now, let's see what does the consensus have in it's content"
   ]
  },
  {
   "cell_type": "code",
   "execution_count": 25,
   "metadata": {},
   "outputs": [
    {
     "name": "stdout",
     "output_type": "stream",
     "text": [
      "<span class=\"descriptor\">Critics Consensus:</span>\n",
      " Running Scared struggles to strike a consistent balance between violent action and humor, but the chemistry between its well-matched leads keeps things entertaining.\n"
     ]
    }
   ],
   "source": [
    "for x in consensus[0]:\n",
    "    print(x)"
   ]
  },
  {
   "cell_type": "markdown",
   "metadata": {},
   "source": [
    "So, the second part of the each **<div** tag has required consensus.and it is also observerd that there is an unwanted space presnet right before the consensus text. we will use the strip menthod to remove the space."
   ]
  },
  {
   "cell_type": "code",
   "execution_count": 26,
   "metadata": {},
   "outputs": [
    {
     "data": {
      "text/plain": [
       "'Running Scared struggles to strike a consistent balance between violent action and humor, but the chemistry between its well-matched leads keeps things entertaining.'"
      ]
     },
     "execution_count": 26,
     "metadata": {},
     "output_type": "execute_result"
    }
   ],
   "source": [
    "consensus[0].contents[1].strip()"
   ]
  },
  {
   "cell_type": "markdown",
   "metadata": {},
   "source": [
    "Now, we will apply this for all the elements consensus list. (using List comprehension)"
   ]
  },
  {
   "cell_type": "code",
   "execution_count": 27,
   "metadata": {},
   "outputs": [
    {
     "data": {
      "text/plain": [
       "['Running Scared struggles to strike a consistent balance between violent action and humor, but the chemistry between its well-matched leads keeps things entertaining.',\n",
       " 'Equilibrium is a reheated mishmash of other sci-fi movies.',\n",
       " 'With death-defying action sequences and epic historic sweep, Hero offers everything a martial arts fan could ask for.',\n",
       " \"Whether Road House is simply bad or so bad it's good depends largely on the audience's fondness for Swayze -- and tolerance for violently cheesy action.\",\n",
       " \"As fast, loud, and relentless as the train at the center of the story, Unstoppable is perfect popcorn entertainment -- and director Tony Scott's best movie in years.\"]"
      ]
     },
     "execution_count": 27,
     "metadata": {},
     "output_type": "execute_result"
    }
   ],
   "source": [
    "consensus_text=[con.contents[1].strip() for con in consensus]\n",
    "consensus_text[0:5]"
   ]
  },
  {
   "cell_type": "markdown",
   "metadata": {},
   "source": [
    "Next is Directors. Again by inspecting the the html page, we find Director of each title is in **'div** tag and **class_='info director**"
   ]
  },
  {
   "cell_type": "code",
   "execution_count": 28,
   "metadata": {},
   "outputs": [
    {
     "data": {
      "text/plain": [
       "[<div class=\"info director\">\n",
       " <span class=\"descriptor\">Directed By:</span> <a class=\"\" href=\"/celebrity/peter_hyams/\">Peter Hyams</a></div>,\n",
       " <div class=\"info director\">\n",
       " <span class=\"descriptor\">Directed By:</span> <a class=\"\" href=\"/celebrity/kurt_wimmer/\">Kurt Wimmer</a></div>,\n",
       " <div class=\"info director\">\n",
       " <span class=\"descriptor\">Directed By:</span> <a class=\"\" href=\"/celebrity/zhang_yimou/\">Zhang Yimou</a></div>,\n",
       " <div class=\"info director\">\n",
       " <span class=\"descriptor\">Directed By:</span> <a class=\"\" href=\"/celebrity/rowdy_herrington/\">Rowdy Herrington</a></div>,\n",
       " <div class=\"info director\">\n",
       " <span class=\"descriptor\">Directed By:</span> <a class=\"\" href=\"/celebrity/tony_scott/\">Tony Scott</a></div>]"
      ]
     },
     "execution_count": 28,
     "metadata": {},
     "output_type": "execute_result"
    }
   ],
   "source": [
    "directors_list=[div.find('div', class_='info director') for div in divs]\n",
    "directors_list[0:5]"
   ]
  },
  {
   "cell_type": "markdown",
   "metadata": {},
   "source": [
    "Once, we filter the class that has Director, we observe that the name of the director is in tag **<a**.\n",
    "\n",
    "Using list comprehension we filter the **<a** tag to get the director's name"
   ]
  },
  {
   "cell_type": "code",
   "execution_count": 29,
   "metadata": {},
   "outputs": [
    {
     "data": {
      "text/plain": [
       "[<a class=\"\" href=\"/celebrity/peter_hyams/\">Peter Hyams</a>,\n",
       " <a class=\"\" href=\"/celebrity/kurt_wimmer/\">Kurt Wimmer</a>,\n",
       " <a class=\"\" href=\"/celebrity/zhang_yimou/\">Zhang Yimou</a>,\n",
       " <a class=\"\" href=\"/celebrity/rowdy_herrington/\">Rowdy Herrington</a>,\n",
       " <a class=\"\" href=\"/celebrity/tony_scott/\">Tony Scott</a>]"
      ]
     },
     "execution_count": 29,
     "metadata": {},
     "output_type": "execute_result"
    }
   ],
   "source": [
    "directors=[x.find('a') for x in directors_list]\n",
    "directors[:5]"
   ]
  },
  {
   "cell_type": "markdown",
   "metadata": {},
   "source": [
    "from the output we observe thata, some of the director has 'None', and upon inspecting the website, it is indeed seen that some of the movies, doesn't have directors listed. so we need to fill those empty places with None for our list.\n",
    "\n",
    "If we filter **<a** for the director names, we get an error because, we cannot filter none, hence we need to assign **None** in the place, with no director"
   ]
  },
  {
   "cell_type": "code",
   "execution_count": 30,
   "metadata": {},
   "outputs": [
    {
     "data": {
      "text/plain": [
       "['Peter Hyams', 'Kurt Wimmer', 'Zhang Yimou', 'Rowdy Herrington', 'Tony Scott']"
      ]
     },
     "execution_count": 30,
     "metadata": {},
     "output_type": "execute_result"
    }
   ],
   "source": [
    "directors=[None if x.find('a') is None else x.find('a').string for x in directors_list]\n",
    "directors[0:5]"
   ]
  },
  {
   "cell_type": "markdown",
   "metadata": {},
   "source": [
    "Similarly, we get the cast, and upon inspecting the website we find that the cast details are available in **<div** with **class=info cast**.\n",
    "\n",
    "Using list comprehension, we will filter for **<div** tags"
   ]
  },
  {
   "cell_type": "code",
   "execution_count": 31,
   "metadata": {},
   "outputs": [
    {
     "data": {
      "text/plain": [
       "<div class=\"info cast\">\n",
       "<span class=\"descriptor\">Starring:</span> <a class=\"\" href=\"/celebrity/gregory_hines/\">Gregory Hines</a>, <a class=\"\" href=\"/celebrity/billy_crystal/\">Billy Crystal</a>, <a class=\"\" href=\"/celebrity/jimmy_smits/\">Jimmy Smits</a>, <a class=\"\" href=\"/celebrity/steven_bauer/\">Steven Bauer</a></div>"
      ]
     },
     "execution_count": 31,
     "metadata": {},
     "output_type": "execute_result"
    }
   ],
   "source": [
    "cast_list=[x.find('div',class_='info cast') for x in divs]\n",
    "cast_list[0]"
   ]
  },
  {
   "cell_type": "code",
   "execution_count": 32,
   "metadata": {},
   "outputs": [
    {
     "data": {
      "text/plain": [
       "[<a class=\"\" href=\"/celebrity/gregory_hines/\">Gregory Hines</a>,\n",
       " <a class=\"\" href=\"/celebrity/billy_crystal/\">Billy Crystal</a>,\n",
       " <a class=\"\" href=\"/celebrity/jimmy_smits/\">Jimmy Smits</a>,\n",
       " <a class=\"\" href=\"/celebrity/steven_bauer/\">Steven Bauer</a>]"
      ]
     },
     "execution_count": 32,
     "metadata": {},
     "output_type": "execute_result"
    }
   ],
   "source": [
    "links=cast_list[0].find_all('a')\n",
    "links"
   ]
  },
  {
   "cell_type": "markdown",
   "metadata": {},
   "source": [
    "From the above output, we see the first element of the list has sublists, which means the cast is actally a list of lists. for having a better understanding and view, we will convert a list of lists into a single list."
   ]
  },
  {
   "cell_type": "code",
   "execution_count": 33,
   "metadata": {},
   "outputs": [
    {
     "data": {
      "text/plain": [
       "'Gregory Hines, Billy Crystal, Jimmy Smits, Steven Bauer'"
      ]
     },
     "execution_count": 33,
     "metadata": {},
     "output_type": "execute_result"
    }
   ],
   "source": [
    "cast_names=', '.join([x.string for x in links])\n",
    "cast_names"
   ]
  },
  {
   "cell_type": "markdown",
   "metadata": {},
   "source": [
    "Now we will apply the same logic for all the elements of the cast_list variable\n",
    "\n",
    "We can do it in two ways. one is doing it with a regular written for loops."
   ]
  },
  {
   "cell_type": "code",
   "execution_count": 34,
   "metadata": {},
   "outputs": [
    {
     "data": {
      "text/plain": [
       "['Gregory Hines, Billy Crystal, Jimmy Smits, Steven Bauer',\n",
       " 'Christian Bale, Emily Watson, Taye Diggs, Angus Macfadyen',\n",
       " 'Jet Li, Tony Leung Chiu Wai, Maggie Cheung, Daoming Chen',\n",
       " 'Patrick Swayze, Kelly Lynch, Sam Elliott, Ben Gazzara',\n",
       " 'Denzel Washington, Chris Pine, Rosario Dawson, Ethan Suplee',\n",
       " 'Richard Roundtree, Moses Gunn, Gwen Mitchell, Christopher St. John',\n",
       " 'Ok-bin Kim, Kim Seo-hyung, Shin Ha-kyun, Bang Sung-jun',\n",
       " 'Christopher Lambert, Sean Connery, Roxanne Hart, Clancy Brown',\n",
       " 'Bruce Willis, Bonnie Bedelia, William Atherton, Reginald VelJohnson',\n",
       " 'Nicolas Cage, Diane Kruger, Justin Bartha, Sean Bean']"
      ]
     },
     "execution_count": 34,
     "metadata": {},
     "output_type": "execute_result"
    }
   ],
   "source": [
    "cast=[]\n",
    "\n",
    "for c in cast_list:\n",
    "    links=c.find_all('a')\n",
    "    cast_names=[link.string for link in links]\n",
    "    result=', '.join(cast_names)\n",
    "    cast.append(result)\n",
    "cast[:10]"
   ]
  },
  {
   "cell_type": "markdown",
   "metadata": {},
   "source": [
    "Next is converting the above logic into a list comprehension"
   ]
  },
  {
   "cell_type": "code",
   "execution_count": 35,
   "metadata": {},
   "outputs": [
    {
     "data": {
      "text/plain": [
       "['Gregory Hines, Billy Crystal, Jimmy Smits, Steven Bauer',\n",
       " 'Christian Bale, Emily Watson, Taye Diggs, Angus Macfadyen',\n",
       " 'Jet Li, Tony Leung Chiu Wai, Maggie Cheung, Daoming Chen',\n",
       " 'Patrick Swayze, Kelly Lynch, Sam Elliott, Ben Gazzara',\n",
       " 'Denzel Washington, Chris Pine, Rosario Dawson, Ethan Suplee',\n",
       " 'Richard Roundtree, Moses Gunn, Gwen Mitchell, Christopher St. John',\n",
       " 'Ok-bin Kim, Kim Seo-hyung, Shin Ha-kyun, Bang Sung-jun',\n",
       " 'Christopher Lambert, Sean Connery, Roxanne Hart, Clancy Brown',\n",
       " 'Bruce Willis, Bonnie Bedelia, William Atherton, Reginald VelJohnson',\n",
       " 'Nicolas Cage, Diane Kruger, Justin Bartha, Sean Bean']"
      ]
     },
     "execution_count": 35,
     "metadata": {},
     "output_type": "execute_result"
    }
   ],
   "source": [
    "cast=[', '.join([link.string for link in c.find_all('a')]) for c in cast_list]\n",
    "cast[:10]"
   ]
  },
  {
   "cell_type": "markdown",
   "metadata": {},
   "source": [
    "Now left are adjusted scores and Synopsis of the movies.\n",
    "\n",
    "For adjusted scores , after inspecting the website we find that the cast details are available in **<div** tag with **class=info countdown-adjusted-score**.\n",
    "\n",
    "Using list comprehension, we will filter for **<div** tags"
   ]
  },
  {
   "cell_type": "code",
   "execution_count": 36,
   "metadata": {},
   "outputs": [
    {
     "data": {
      "text/plain": [
       "<div class=\"info countdown-adjusted-score\"><span class=\"descriptor\">Adjusted Score: </span>61.182% <span class=\"glyphicon glyphicon-question-sign\" data-html=\"true\" data-original-title=\"The Adjusted Score comes from a weighted formula (Bayesian) that we use that accounts for variation in the number of reviews per movie.\" data-placement=\"top\" data-toggle=\"tooltip\" rel=\"tooltip\" title=\"\"></span></div>"
      ]
     },
     "execution_count": 36,
     "metadata": {},
     "output_type": "execute_result"
    }
   ],
   "source": [
    "adjusted_score=[div.find('div', class_='info countdown-adjusted-score') for div in divs]\n",
    "adjusted_score[0]"
   ]
  },
  {
   "cell_type": "code",
   "execution_count": 37,
   "metadata": {},
   "outputs": [
    {
     "name": "stdout",
     "output_type": "stream",
     "text": [
      "<span class=\"descriptor\">Adjusted Score: </span>\n",
      "61.182% \n",
      "<span class=\"glyphicon glyphicon-question-sign\" data-html=\"true\" data-original-title=\"The Adjusted Score comes from a weighted formula (Bayesian) that we use that accounts for variation in the number of reviews per movie.\" data-placement=\"top\" data-toggle=\"tooltip\" rel=\"tooltip\" title=\"\"></span>\n"
     ]
    }
   ],
   "source": [
    "for x in adjusted_score[0]:\n",
    "    print(x)"
   ]
  },
  {
   "cell_type": "markdown",
   "metadata": {},
   "source": [
    "Using a for loop we find the contents of the 1st element of the adjusted_stores, and we see that the score is the second element"
   ]
  },
  {
   "cell_type": "code",
   "execution_count": 38,
   "metadata": {},
   "outputs": [
    {
     "data": {
      "text/plain": [
       "'61.182% '"
      ]
     },
     "execution_count": 38,
     "metadata": {},
     "output_type": "execute_result"
    }
   ],
   "source": [
    "adjusted_score[0].contents[1]"
   ]
  },
  {
   "cell_type": "markdown",
   "metadata": {},
   "source": [
    "We also notice that there's a **%** symbol in the result, and the data type is a string and we need it in integer format. \n",
    "\n",
    "So using a list comprehension and the above technique, we will apply the same logic for all the elements of the list."
   ]
  },
  {
   "cell_type": "code",
   "execution_count": 39,
   "metadata": {},
   "outputs": [
    {
     "data": {
      "text/plain": [
       "[61.182, 41.992, 100.762, 41.986, 91.476]"
      ]
     },
     "execution_count": 39,
     "metadata": {},
     "output_type": "execute_result"
    }
   ],
   "source": [
    "ad_scores=[score.contents[1].strip('% ') for score in adjusted_score]\n",
    "ad_scores=[float(scores) for scores in ad_scores]\n",
    "ad_scores[0:5]"
   ]
  },
  {
   "cell_type": "markdown",
   "metadata": {},
   "source": [
    "The last data we need is the synopsis of each movie. And once again upon inspecting the website html page using the developer tools we will find out that synopsis is in **class=info synopsis** with a **<div** tag.\n",
    "\n",
    "using find_all method we will find part of the html with **Div** tag and the class."
   ]
  },
  {
   "cell_type": "code",
   "execution_count": 40,
   "metadata": {},
   "outputs": [
    {
     "data": {
      "text/plain": [
       "<div class=\"info synopsis\"><span class=\"descriptor\">Synopsis:</span> Distinguished by a sharp, witty dialogue between its two cop protagonists, Ray and Danny (Gregory Hines and Billy Crystal), this...<a class=\"\" data-pageheader=\"\" href=\"https://www.rottentomatoes.com/m/1018009-running_scared/\" target=\"_top\"> [More]</a></div>"
      ]
     },
     "execution_count": 40,
     "metadata": {},
     "output_type": "execute_result"
    }
   ],
   "source": [
    "synopsis=[div.find('div', class_='info synopsis') for div in divs]\n",
    "synopsis[0]"
   ]
  },
  {
   "cell_type": "code",
   "execution_count": 41,
   "metadata": {},
   "outputs": [
    {
     "name": "stdout",
     "output_type": "stream",
     "text": [
      "<span class=\"descriptor\">Synopsis:</span>\n",
      " Distinguished by a sharp, witty dialogue between its two cop protagonists, Ray and Danny (Gregory Hines and Billy Crystal), this...\n",
      "<a class=\"\" data-pageheader=\"\" href=\"https://www.rottentomatoes.com/m/1018009-running_scared/\" target=\"_top\"> [More]</a>\n"
     ]
    }
   ],
   "source": [
    "for x in synopsis[0]:\n",
    "    print(x)"
   ]
  },
  {
   "cell_type": "markdown",
   "metadata": {},
   "source": [
    "And again our movie synopsis is the second part of the content.  and there's an unwanted space at the begining of the description. we will remove it using the strip method."
   ]
  },
  {
   "cell_type": "code",
   "execution_count": 42,
   "metadata": {},
   "outputs": [
    {
     "data": {
      "text/plain": [
       "'Distinguished by a sharp, witty dialogue between its two cop protagonists, Ray and Danny (Gregory Hines and Billy Crystal), this...'"
      ]
     },
     "execution_count": 42,
     "metadata": {},
     "output_type": "execute_result"
    }
   ],
   "source": [
    "synopsis[0].contents[1].strip()"
   ]
  },
  {
   "cell_type": "code",
   "execution_count": 43,
   "metadata": {},
   "outputs": [
    {
     "data": {
      "text/plain": [
       "['Distinguished by a sharp, witty dialogue between its two cop protagonists, Ray and Danny (Gregory Hines and Billy Crystal), this...',\n",
       " 'In the nation of Libria, there is always peace among men. The rules of the Librian system are simple. If...',\n",
       " \"Hero is two-time Academy Award nominee Zhang Yimou's directorial attempt at exploring the concept of a Chinese hero. During the...\",\n",
       " 'Dalton (Swayze) is a true gentleman with a degree in philosophy from NYU. He also has a flip side -...',\n",
       " 'In this action thriller from director Tony Scott, rookie train operator Will (Chris Pine) and grizzled veteran engineer Frank (Denzel...']"
      ]
     },
     "execution_count": 43,
     "metadata": {},
     "output_type": "execute_result"
    }
   ],
   "source": [
    "synopsis_text=[x.contents[1].strip() for x in synopsis]\n",
    "synopsis_text[0:5]"
   ]
  },
  {
   "cell_type": "markdown",
   "metadata": {},
   "source": [
    "### Step -3\n",
    "\n",
    "We succesfully scraped the rotten tomatoes website for the top action movies in the page, and got all the required data we need. Now we need to create a data frame, which is used to visualize the data in tabluar format.\n",
    "\n",
    "Other option is to connect to a database and load them into a table in the data base. \n",
    "\n",
    "Using the pandas library, we create a dataframe."
   ]
  },
  {
   "cell_type": "code",
   "execution_count": 44,
   "metadata": {},
   "outputs": [
    {
     "data": {
      "text/html": [
       "<div>\n",
       "<style scoped>\n",
       "    .dataframe tbody tr th:only-of-type {\n",
       "        vertical-align: middle;\n",
       "    }\n",
       "\n",
       "    .dataframe tbody tr th {\n",
       "        vertical-align: top;\n",
       "    }\n",
       "\n",
       "    .dataframe thead th {\n",
       "        text-align: right;\n",
       "    }\n",
       "</style>\n",
       "<table border=\"1\" class=\"dataframe\">\n",
       "  <thead>\n",
       "    <tr style=\"text-align: right;\">\n",
       "      <th></th>\n",
       "      <th>Movie Title</th>\n",
       "      <th>Year</th>\n",
       "      <th>scores</th>\n",
       "      <th>Adjusted Scores</th>\n",
       "      <th>Director</th>\n",
       "      <th>Synopsis</th>\n",
       "      <th>cast</th>\n",
       "      <th>Consensus</th>\n",
       "    </tr>\n",
       "  </thead>\n",
       "  <tbody>\n",
       "    <tr>\n",
       "      <th>0</th>\n",
       "      <td>Running Scared</td>\n",
       "      <td>1986</td>\n",
       "      <td>60</td>\n",
       "      <td>61.182</td>\n",
       "      <td>Peter Hyams</td>\n",
       "      <td>Distinguished by a sharp, witty dialogue betwe...</td>\n",
       "      <td>Gregory Hines, Billy Crystal, Jimmy Smits, Ste...</td>\n",
       "      <td>Running Scared struggles to strike a consisten...</td>\n",
       "    </tr>\n",
       "    <tr>\n",
       "      <th>1</th>\n",
       "      <td>Equilibrium</td>\n",
       "      <td>2002</td>\n",
       "      <td>40</td>\n",
       "      <td>41.992</td>\n",
       "      <td>Kurt Wimmer</td>\n",
       "      <td>In the nation of Libria, there is always peace...</td>\n",
       "      <td>Christian Bale, Emily Watson, Taye Diggs, Angu...</td>\n",
       "      <td>Equilibrium is a reheated mishmash of other sc...</td>\n",
       "    </tr>\n",
       "    <tr>\n",
       "      <th>2</th>\n",
       "      <td>Hero</td>\n",
       "      <td>2004</td>\n",
       "      <td>95</td>\n",
       "      <td>100.762</td>\n",
       "      <td>Zhang Yimou</td>\n",
       "      <td>Hero is two-time Academy Award nominee Zhang Y...</td>\n",
       "      <td>Jet Li, Tony Leung Chiu Wai, Maggie Cheung, Da...</td>\n",
       "      <td>With death-defying action sequences and epic h...</td>\n",
       "    </tr>\n",
       "    <tr>\n",
       "      <th>3</th>\n",
       "      <td>Road House</td>\n",
       "      <td>1989</td>\n",
       "      <td>39</td>\n",
       "      <td>41.986</td>\n",
       "      <td>Rowdy Herrington</td>\n",
       "      <td>Dalton (Swayze) is a true gentleman with a deg...</td>\n",
       "      <td>Patrick Swayze, Kelly Lynch, Sam Elliott, Ben ...</td>\n",
       "      <td>Whether Road House is simply bad or so bad it'...</td>\n",
       "    </tr>\n",
       "    <tr>\n",
       "      <th>4</th>\n",
       "      <td>Unstoppable</td>\n",
       "      <td>2010</td>\n",
       "      <td>86</td>\n",
       "      <td>91.476</td>\n",
       "      <td>Tony Scott</td>\n",
       "      <td>In this action thriller from director Tony Sco...</td>\n",
       "      <td>Denzel Washington, Chris Pine, Rosario Dawson,...</td>\n",
       "      <td>As fast, loud, and relentless as the train at ...</td>\n",
       "    </tr>\n",
       "    <tr>\n",
       "      <th>5</th>\n",
       "      <td>Shaft</td>\n",
       "      <td>1971</td>\n",
       "      <td>88</td>\n",
       "      <td>92.024</td>\n",
       "      <td>Gordon Parks</td>\n",
       "      <td>Shaft, a highly successful film, spawned an in...</td>\n",
       "      <td>Richard Roundtree, Moses Gunn, Gwen Mitchell, ...</td>\n",
       "      <td>This is the man that would risk his neck for h...</td>\n",
       "    </tr>\n",
       "    <tr>\n",
       "      <th>6</th>\n",
       "      <td>The Villainess (Ak-Nyeo)</td>\n",
       "      <td>2017</td>\n",
       "      <td>84</td>\n",
       "      <td>86.913</td>\n",
       "      <td>Jung Byung-gil</td>\n",
       "      <td>Since she was a little girl, Sook-hee was rais...</td>\n",
       "      <td>Ok-bin Kim, Kim Seo-hyung, Shin Ha-kyun, Bang ...</td>\n",
       "      <td>The Villainess offers enough pure kinetic thri...</td>\n",
       "    </tr>\n",
       "    <tr>\n",
       "      <th>7</th>\n",
       "      <td>Highlander</td>\n",
       "      <td>1986</td>\n",
       "      <td>69</td>\n",
       "      <td>71.927</td>\n",
       "      <td>Russell Mulcahy</td>\n",
       "      <td>Among humans for centuries, an immortal specie...</td>\n",
       "      <td>Christopher Lambert, Sean Connery, Roxanne Har...</td>\n",
       "      <td>People hate Highlander because it's cheesy, bo...</td>\n",
       "    </tr>\n",
       "    <tr>\n",
       "      <th>8</th>\n",
       "      <td>Die Hard 2</td>\n",
       "      <td>1990</td>\n",
       "      <td>68</td>\n",
       "      <td>72.291</td>\n",
       "      <td>Renny Harlin</td>\n",
       "      <td>\"Another basement, another elevator...how can ...</td>\n",
       "      <td>Bruce Willis, Bonnie Bedelia, William Atherton...</td>\n",
       "      <td>It lacks the fresh thrills of its predecessor,...</td>\n",
       "    </tr>\n",
       "    <tr>\n",
       "      <th>9</th>\n",
       "      <td>National Treasure</td>\n",
       "      <td>2004</td>\n",
       "      <td>46</td>\n",
       "      <td>50.848</td>\n",
       "      <td>Jon Turteltaub</td>\n",
       "      <td>Benjamin Franklin Gates is a third generation ...</td>\n",
       "      <td>Nicolas Cage, Diane Kruger, Justin Bartha, Sea...</td>\n",
       "      <td>National Treasure is no treasure, but it's a f...</td>\n",
       "    </tr>\n",
       "    <tr>\n",
       "      <th>10</th>\n",
       "      <td>The Protector (Tom yum goong) (Warrior King)</td>\n",
       "      <td>2005</td>\n",
       "      <td>53</td>\n",
       "      <td>55.433</td>\n",
       "      <td>Prachya Pinkaew</td>\n",
       "      <td>Kham's life is turned upside down when an inte...</td>\n",
       "      <td>Tony Jaa, Petchtai Wongkamlao, Bongkoj Khongma...</td>\n",
       "      <td>Despite some impressive fight scenes, this tri...</td>\n",
       "    </tr>\n",
       "    <tr>\n",
       "      <th>11</th>\n",
       "      <td>Revenge</td>\n",
       "      <td>2018</td>\n",
       "      <td>92</td>\n",
       "      <td>97.082</td>\n",
       "      <td>Coralie Fargeat</td>\n",
       "      <td>Jen (fearlessly embodied by Matilda Lutz, Ring...</td>\n",
       "      <td>Matilda Anna Ingrid Lutz, Kevin Janssens, Vinc...</td>\n",
       "      <td>Revenge slices and dices genre tropes, working...</td>\n",
       "    </tr>\n",
       "    <tr>\n",
       "      <th>12</th>\n",
       "      <td>El Mariachi</td>\n",
       "      <td>1993</td>\n",
       "      <td>93</td>\n",
       "      <td>94.586</td>\n",
       "      <td>Robert Rodriguez</td>\n",
       "      <td>Filmed in two weeks on a budget of 7,000 dolla...</td>\n",
       "      <td>Carlos Gallardo, Consuelo Gómez, Reinol Martin...</td>\n",
       "      <td>Made on a shoestring budget, El Mariachi's sto...</td>\n",
       "    </tr>\n",
       "    <tr>\n",
       "      <th>13</th>\n",
       "      <td>A Touch of Zen</td>\n",
       "      <td>1969</td>\n",
       "      <td>96</td>\n",
       "      <td>98.512</td>\n",
       "      <td>King Hu</td>\n",
       "      <td>According to this drama, set in 14th-century C...</td>\n",
       "      <td>Feng Hsu, Chun Shih, Pai Ying, Tien Peng</td>\n",
       "      <td>A brilliantly directed feast for the eyes with...</td>\n",
       "    </tr>\n",
       "    <tr>\n",
       "      <th>14</th>\n",
       "      <td>Top Gun</td>\n",
       "      <td>1986</td>\n",
       "      <td>54</td>\n",
       "      <td>59.109</td>\n",
       "      <td>Tony Scott</td>\n",
       "      <td>Devil-may-care navy pilot Pete Mitchell (Tom C...</td>\n",
       "      <td>Tom Cruise, Kelly McGillis, Anthony Edwards, V...</td>\n",
       "      <td>Though it features some of the most memorable ...</td>\n",
       "    </tr>\n",
       "    <tr>\n",
       "      <th>15</th>\n",
       "      <td>Con Air</td>\n",
       "      <td>1997</td>\n",
       "      <td>55</td>\n",
       "      <td>58.684</td>\n",
       "      <td>Simon West</td>\n",
       "      <td>Former war hero Cameron Poe (Nicolas Cage) is ...</td>\n",
       "      <td>Nicolas Cage, John Cusack, John Malkovich, Ste...</td>\n",
       "      <td>Con Air won't win any awards for believability...</td>\n",
       "    </tr>\n",
       "    <tr>\n",
       "      <th>16</th>\n",
       "      <td>The Expendables 2</td>\n",
       "      <td>2012</td>\n",
       "      <td>68</td>\n",
       "      <td>72.297</td>\n",
       "      <td>Simon West</td>\n",
       "      <td>The Expendables are back and this time it's pe...</td>\n",
       "      <td>Sylvester Stallone, Jason Statham, Jet Li, Dol...</td>\n",
       "      <td>Taut, violent, and suitably self-deprecating, ...</td>\n",
       "    </tr>\n",
       "    <tr>\n",
       "      <th>17</th>\n",
       "      <td>The Mummy</td>\n",
       "      <td>1999</td>\n",
       "      <td>60</td>\n",
       "      <td>63.980</td>\n",
       "      <td>Stephen Sommers</td>\n",
       "      <td>Loosely adapted from the classic 1932 horror f...</td>\n",
       "      <td>Brendan Fraser, Rachel Weisz, John Hannah, Arn...</td>\n",
       "      <td>It's difficult to make a persuasive argument f...</td>\n",
       "    </tr>\n",
       "    <tr>\n",
       "      <th>18</th>\n",
       "      <td>Mr. &amp; Mrs. Smith</td>\n",
       "      <td>2005</td>\n",
       "      <td>60</td>\n",
       "      <td>67.125</td>\n",
       "      <td>Doug Liman</td>\n",
       "      <td>John and Jane Smith are an ordinary suburban c...</td>\n",
       "      <td>Brad Pitt, Angelina Jolie, Vince Vaughn, Adam ...</td>\n",
       "      <td>Although this action-romance suffers from weak...</td>\n",
       "    </tr>\n",
       "    <tr>\n",
       "      <th>19</th>\n",
       "      <td>Rush Hour</td>\n",
       "      <td>1998</td>\n",
       "      <td>60</td>\n",
       "      <td>63.714</td>\n",
       "      <td>Brett Ratner</td>\n",
       "      <td>Brett Ratner directed this action-comedy that ...</td>\n",
       "      <td>Jackie Chan, Chris Tucker, Elizabeth Peña, Tom...</td>\n",
       "      <td>A kick-ass addition to the cop-buddy film genre.</td>\n",
       "    </tr>\n",
       "    <tr>\n",
       "      <th>20</th>\n",
       "      <td>The Equalizer</td>\n",
       "      <td>2014</td>\n",
       "      <td>59</td>\n",
       "      <td>66.576</td>\n",
       "      <td>Antoine Fuqua</td>\n",
       "      <td>In The Equalizer, Denzel Washington plays McCa...</td>\n",
       "      <td>Denzel Washington, Marton Csokas, Chloë Grace ...</td>\n",
       "      <td>The Equalizer is more stylishly violent than m...</td>\n",
       "    </tr>\n",
       "    <tr>\n",
       "      <th>21</th>\n",
       "      <td>Captain America: Civil War</td>\n",
       "      <td>2016</td>\n",
       "      <td>91</td>\n",
       "      <td>107.382</td>\n",
       "      <td>Anthony Russo</td>\n",
       "      <td>Marvel's \"Captain America: Civil War\" finds St...</td>\n",
       "      <td>Chris Evans, Robert Downey Jr., Scarlett Johan...</td>\n",
       "      <td>Captain America: Civil War begins the next wav...</td>\n",
       "    </tr>\n",
       "    <tr>\n",
       "      <th>22</th>\n",
       "      <td>Air Force One</td>\n",
       "      <td>1997</td>\n",
       "      <td>76</td>\n",
       "      <td>78.964</td>\n",
       "      <td>Wolfgang Petersen</td>\n",
       "      <td>In this action drama, Harrison Ford plays Jame...</td>\n",
       "      <td>Gary Oldman, Harrison Ford, Glenn Close, Wendy...</td>\n",
       "      <td>This late-period Harrison Ford actioner is ful...</td>\n",
       "    </tr>\n",
       "    <tr>\n",
       "      <th>23</th>\n",
       "      <td>Bloodsport</td>\n",
       "      <td>1988</td>\n",
       "      <td>40</td>\n",
       "      <td>41.233</td>\n",
       "      <td>Newt Arnold</td>\n",
       "      <td>U.S. soldier Frank Dux (Jean-Claude Van Damme)...</td>\n",
       "      <td>Jean-Claude Van Damme, Leah Ayres, Donald Gibb...</td>\n",
       "      <td>This is where it all began for the Muscles fro...</td>\n",
       "    </tr>\n",
       "    <tr>\n",
       "      <th>24</th>\n",
       "      <td>Blade</td>\n",
       "      <td>1998</td>\n",
       "      <td>55</td>\n",
       "      <td>60.586</td>\n",
       "      <td>Stephen Norrington</td>\n",
       "      <td>British director Stephen Norrington helmed thi...</td>\n",
       "      <td>Wesley Snipes, Stephen Dorff, Kris Kristoffers...</td>\n",
       "      <td>Though some may find the plot a bit lacking, B...</td>\n",
       "    </tr>\n",
       "    <tr>\n",
       "      <th>25</th>\n",
       "      <td>Bad Boys</td>\n",
       "      <td>1995</td>\n",
       "      <td>43</td>\n",
       "      <td>46.857</td>\n",
       "      <td>Michael Bay</td>\n",
       "      <td>Former video director Michael Bay had his firs...</td>\n",
       "      <td>Martin Lawrence, Will Smith, Téa Leoni, Tcheky...</td>\n",
       "      <td>Bad Boys stars Will Smith and Martin Lawrence ...</td>\n",
       "    </tr>\n",
       "    <tr>\n",
       "      <th>26</th>\n",
       "      <td>Die Hard: With a Vengeance</td>\n",
       "      <td>1995</td>\n",
       "      <td>52</td>\n",
       "      <td>55.781</td>\n",
       "      <td>John McTiernan</td>\n",
       "      <td>Bruce Willis returns as misfit cop John McClan...</td>\n",
       "      <td>Bruce Willis, Jeremy Irons, Samuel L. Jackson,...</td>\n",
       "      <td>Die Hard with a Vengeance benefits from Bruce ...</td>\n",
       "    </tr>\n",
       "    <tr>\n",
       "      <th>27</th>\n",
       "      <td>The Running Man</td>\n",
       "      <td>1987</td>\n",
       "      <td>63</td>\n",
       "      <td>65.909</td>\n",
       "      <td>Paul Michael Glaser</td>\n",
       "      <td>An unjustly accused prisoner in 2019 is given ...</td>\n",
       "      <td>Arnold Schwarzenegger, Maria Conchita Alonso, ...</td>\n",
       "      <td>The Running Man is winking sci-fi satire with ...</td>\n",
       "    </tr>\n",
       "    <tr>\n",
       "      <th>28</th>\n",
       "      <td>Code of Silence</td>\n",
       "      <td>1985</td>\n",
       "      <td>63</td>\n",
       "      <td>63.693</td>\n",
       "      <td>Andrew Davis</td>\n",
       "      <td>Not to be confused with the 1960 film of the s...</td>\n",
       "      <td>Chuck Norris, Henry Silva, Bert Remsen, Mike G...</td>\n",
       "      <td>No consensus yet.</td>\n",
       "    </tr>\n",
       "    <tr>\n",
       "      <th>29</th>\n",
       "      <td>Shoot 'Em Up</td>\n",
       "      <td>2007</td>\n",
       "      <td>67</td>\n",
       "      <td>72.113</td>\n",
       "      <td>Michael Davis</td>\n",
       "      <td>A mysterious man delivers a baby during a shoo...</td>\n",
       "      <td>Clive Owen, Paul Giamatti, Monica Bellucci, St...</td>\n",
       "      <td>As preposterous and over-the-top as Shoot 'Em ...</td>\n",
       "    </tr>\n",
       "    <tr>\n",
       "      <th>...</th>\n",
       "      <td>...</td>\n",
       "      <td>...</td>\n",
       "      <td>...</td>\n",
       "      <td>...</td>\n",
       "      <td>...</td>\n",
       "      <td>...</td>\n",
       "      <td>...</td>\n",
       "      <td>...</td>\n",
       "    </tr>\n",
       "    <tr>\n",
       "      <th>110</th>\n",
       "      <td>Baby Driver</td>\n",
       "      <td>2017</td>\n",
       "      <td>93</td>\n",
       "      <td>109.173</td>\n",
       "      <td>Edgar Wright</td>\n",
       "      <td>A talented, young getaway driver (Ansel Elgort...</td>\n",
       "      <td>Ansel Elgort, Kevin Spacey, Lily James, Jon Be...</td>\n",
       "      <td>Stylish, exciting, and fueled by a killer soun...</td>\n",
       "    </tr>\n",
       "    <tr>\n",
       "      <th>111</th>\n",
       "      <td>Fist of Legend (Jing wu ying xiong)</td>\n",
       "      <td>1994</td>\n",
       "      <td>100</td>\n",
       "      <td>76.733</td>\n",
       "      <td>Gordon Chan</td>\n",
       "      <td>Jet Li stars in this historical Hong Kong acti...</td>\n",
       "      <td>Jet Li, Paul Chiang, Yasuaki Kurata, Shinobu N...</td>\n",
       "      <td>No consensus yet.</td>\n",
       "    </tr>\n",
       "    <tr>\n",
       "      <th>112</th>\n",
       "      <td>The Killer</td>\n",
       "      <td>1989</td>\n",
       "      <td>98</td>\n",
       "      <td>100.624</td>\n",
       "      <td>John Woo</td>\n",
       "      <td>Chow Yun-Fat, director John Woo's favorite act...</td>\n",
       "      <td>Yun-Fat Chow, Sally Yeh, Danny Lee, Kenneth Tsang</td>\n",
       "      <td>The Killer is another hard-boiled action flick...</td>\n",
       "    </tr>\n",
       "    <tr>\n",
       "      <th>113</th>\n",
       "      <td>The Raid 2</td>\n",
       "      <td>2014</td>\n",
       "      <td>80</td>\n",
       "      <td>86.320</td>\n",
       "      <td>Gareth Evans</td>\n",
       "      <td>He thought it was over. After fighting his way...</td>\n",
       "      <td>Iko Uwais, Yahan Ruhian, Arifin Putra, Oka Antara</td>\n",
       "      <td>Although its high-energy plot and over-the-top...</td>\n",
       "    </tr>\n",
       "    <tr>\n",
       "      <th>114</th>\n",
       "      <td>Enter the Dragon</td>\n",
       "      <td>1973</td>\n",
       "      <td>94</td>\n",
       "      <td>98.664</td>\n",
       "      <td>Robert Clouse</td>\n",
       "      <td>One of the most popular kung fu films ever, an...</td>\n",
       "      <td>Bruce Lee, John Saxon, Jim Kelly, Shih Kien</td>\n",
       "      <td>Badass to the max, Enter the Dragon is the ult...</td>\n",
       "    </tr>\n",
       "    <tr>\n",
       "      <th>115</th>\n",
       "      <td>Commando</td>\n",
       "      <td>1985</td>\n",
       "      <td>71</td>\n",
       "      <td>73.030</td>\n",
       "      <td>Mark L. Lester</td>\n",
       "      <td>Colonel Matrix (Arnold Schwarzenegger) is reti...</td>\n",
       "      <td>Arnold Schwarzenegger, Alyssa Milano, Rae Dawn...</td>\n",
       "      <td>The ultimate '80s Schwarzenegger movie, replet...</td>\n",
       "    </tr>\n",
       "    <tr>\n",
       "      <th>116</th>\n",
       "      <td>First Blood</td>\n",
       "      <td>1982</td>\n",
       "      <td>87</td>\n",
       "      <td>90.887</td>\n",
       "      <td>Ted Kotcheff</td>\n",
       "      <td>A former Green Beret must use all of the guerr...</td>\n",
       "      <td>Sylvester Stallone, Richard Crenna, Brian Denn...</td>\n",
       "      <td>Much darker and more sensitive than the sequel...</td>\n",
       "    </tr>\n",
       "    <tr>\n",
       "      <th>117</th>\n",
       "      <td>Mission: Impossible Rogue Nation</td>\n",
       "      <td>2015</td>\n",
       "      <td>93</td>\n",
       "      <td>105.297</td>\n",
       "      <td>Christopher McQuarrie</td>\n",
       "      <td>With the IMF disbanded, and Ethan (Tom Cruise)...</td>\n",
       "      <td>Tom Cruise, Jeremy Renner, Ving Rhames, Simon ...</td>\n",
       "      <td>Mission: Impossible Rogue Nation continues the...</td>\n",
       "    </tr>\n",
       "    <tr>\n",
       "      <th>118</th>\n",
       "      <td>The Terminator</td>\n",
       "      <td>1984</td>\n",
       "      <td>100</td>\n",
       "      <td>104.847</td>\n",
       "      <td>James Cameron</td>\n",
       "      <td>A Cyborg has been sent from the future on a de...</td>\n",
       "      <td>Arnold Schwarzenegger, Linda Hamilton, Michael...</td>\n",
       "      <td>With its impressive action sequences, taut eco...</td>\n",
       "    </tr>\n",
       "    <tr>\n",
       "      <th>119</th>\n",
       "      <td>Gladiator</td>\n",
       "      <td>2000</td>\n",
       "      <td>76</td>\n",
       "      <td>83.199</td>\n",
       "      <td>Ridley Scott</td>\n",
       "      <td>A man robbed of his name and his dignity striv...</td>\n",
       "      <td>Russell Crowe, Joaquin Phoenix, Connie Nielsen...</td>\n",
       "      <td>Ridley Scott and an excellent cast successfull...</td>\n",
       "    </tr>\n",
       "    <tr>\n",
       "      <th>120</th>\n",
       "      <td>Kill Bill: Volume 1</td>\n",
       "      <td>2003</td>\n",
       "      <td>85</td>\n",
       "      <td>91.871</td>\n",
       "      <td>Quentin Tarantino</td>\n",
       "      <td>An entire wedding party is slaughtered during ...</td>\n",
       "      <td>Uma Thurman, Lucy Liu, Vivica A. Fox, David Ca...</td>\n",
       "      <td>Kill Bill is admittedly little more than a sty...</td>\n",
       "    </tr>\n",
       "    <tr>\n",
       "      <th>121</th>\n",
       "      <td>Léon: The Professional</td>\n",
       "      <td>1994</td>\n",
       "      <td>73</td>\n",
       "      <td>76.912</td>\n",
       "      <td>Luc Besson</td>\n",
       "      <td>As visually stylish as it is graphically viole...</td>\n",
       "      <td>Jean Reno, Gary Oldman, Natalie Portman, Danny...</td>\n",
       "      <td>Pivoting on the unusual relationship between s...</td>\n",
       "    </tr>\n",
       "    <tr>\n",
       "      <th>122</th>\n",
       "      <td>Speed</td>\n",
       "      <td>1994</td>\n",
       "      <td>94</td>\n",
       "      <td>97.911</td>\n",
       "      <td>Jan de Bont</td>\n",
       "      <td>If you don't think Speed is the fastest-moving...</td>\n",
       "      <td>Keanu Reeves, Dennis Hopper, Sandra Bullock, J...</td>\n",
       "      <td>A terrific popcorn thriller, Speed is taut, te...</td>\n",
       "    </tr>\n",
       "    <tr>\n",
       "      <th>123</th>\n",
       "      <td>The Legend of Drunken Master (Jui kuen II) (Dr...</td>\n",
       "      <td>1994</td>\n",
       "      <td>83</td>\n",
       "      <td>87.755</td>\n",
       "      <td>Lau Kar-Leung</td>\n",
       "      <td>Jackie Chan returns in one of his greatest rol...</td>\n",
       "      <td>Jackie Chan, Siu Tin Yuen, Jang Lee Hwang, Kau...</td>\n",
       "      <td>Jackie Chan sends up some amazing and entertai...</td>\n",
       "    </tr>\n",
       "    <tr>\n",
       "      <th>124</th>\n",
       "      <td>John Wick</td>\n",
       "      <td>2014</td>\n",
       "      <td>86</td>\n",
       "      <td>94.225</td>\n",
       "      <td>David Leitch</td>\n",
       "      <td>An ex-hitman comes out of retirement to track ...</td>\n",
       "      <td>Keanu Reeves, Michael Nyqvist, Alfie Allen, Ad...</td>\n",
       "      <td>Stylish, thrilling, and giddily kinetic, John ...</td>\n",
       "    </tr>\n",
       "    <tr>\n",
       "      <th>125</th>\n",
       "      <td>Crouching Tiger, Hidden Dragon</td>\n",
       "      <td>2001</td>\n",
       "      <td>97</td>\n",
       "      <td>101.918</td>\n",
       "      <td>Ang Lee</td>\n",
       "      <td>Taiwanese filmmaker Ang Lee took a break from ...</td>\n",
       "      <td>Yun-Fat Chow, Michelle Yeoh, Ziyi Zhang, Chen ...</td>\n",
       "      <td>The movie that catapulted Ang Lee into the ran...</td>\n",
       "    </tr>\n",
       "    <tr>\n",
       "      <th>126</th>\n",
       "      <td>Predator</td>\n",
       "      <td>1987</td>\n",
       "      <td>81</td>\n",
       "      <td>84.576</td>\n",
       "      <td>John McTiernan</td>\n",
       "      <td>Dutch (Arnold Schwarzenegger) has a code of ho...</td>\n",
       "      <td>Arnold Schwarzenegger, Carl Weathers, Elpidia ...</td>\n",
       "      <td>Predator: Part sci-fi, part horror, part actio...</td>\n",
       "    </tr>\n",
       "    <tr>\n",
       "      <th>127</th>\n",
       "      <td>The Bourne Ultimatum</td>\n",
       "      <td>2007</td>\n",
       "      <td>92</td>\n",
       "      <td>101.023</td>\n",
       "      <td>Paul Greengrass</td>\n",
       "      <td>Jason Bourne (Matt Damon) races to solve the m...</td>\n",
       "      <td>Matt Damon, Julia Stiles, David Strathairn, Sc...</td>\n",
       "      <td>The Bourne Ultimatum is an intelligent, finely...</td>\n",
       "    </tr>\n",
       "    <tr>\n",
       "      <th>128</th>\n",
       "      <td>Total Recall</td>\n",
       "      <td>1990</td>\n",
       "      <td>82</td>\n",
       "      <td>86.711</td>\n",
       "      <td>Paul Verhoeven</td>\n",
       "      <td>In Paul Verhoeven's wild sci-fi action movie T...</td>\n",
       "      <td>Arnold Schwarzenegger, Rachel Ticotin, Sharon ...</td>\n",
       "      <td>Under Paul Verhoeven's frenetic direction, Tot...</td>\n",
       "    </tr>\n",
       "    <tr>\n",
       "      <th>129</th>\n",
       "      <td>Mad Max 2: The Road Warrior</td>\n",
       "      <td>1982</td>\n",
       "      <td>95</td>\n",
       "      <td>98.778</td>\n",
       "      <td>George Miller</td>\n",
       "      <td>Director George Miller's follow-up to his own ...</td>\n",
       "      <td>Mel Gibson, Bruce Spence, Vernon Wells, Emil M...</td>\n",
       "      <td>The Road Warrior is everything a bigger-budget...</td>\n",
       "    </tr>\n",
       "    <tr>\n",
       "      <th>130</th>\n",
       "      <td>Heat</td>\n",
       "      <td>1995</td>\n",
       "      <td>86</td>\n",
       "      <td>91.245</td>\n",
       "      <td>Michael Mann</td>\n",
       "      <td>A successful career criminal considers getting...</td>\n",
       "      <td>Al Pacino, Robert De Niro, Val Kilmer, Jon Voight</td>\n",
       "      <td>Though Al Pacino and Robert De Niro share but ...</td>\n",
       "    </tr>\n",
       "    <tr>\n",
       "      <th>131</th>\n",
       "      <td>The Raid: Redemption</td>\n",
       "      <td>2012</td>\n",
       "      <td>86</td>\n",
       "      <td>91.682</td>\n",
       "      <td>Gareth Evans</td>\n",
       "      <td>As a rookie member of an elite special-forces ...</td>\n",
       "      <td>Iko Uwais, Joe Taslim, Doni Alamsyah, Yahan Ru...</td>\n",
       "      <td>No frills and all thrills, The Raid: Redemptio...</td>\n",
       "    </tr>\n",
       "    <tr>\n",
       "      <th>132</th>\n",
       "      <td>Mission: Impossible - Fallout</td>\n",
       "      <td>2018</td>\n",
       "      <td>97</td>\n",
       "      <td>115.612</td>\n",
       "      <td>Christopher McQuarrie</td>\n",
       "      <td>The best intentions often come back to haunt y...</td>\n",
       "      <td>Tom Cruise, Henry Cavill, Ving Rhames, Simon Pegg</td>\n",
       "      <td>Fast, sleek, and fun, Mission: Impossible - Fa...</td>\n",
       "    </tr>\n",
       "    <tr>\n",
       "      <th>133</th>\n",
       "      <td>Raiders of the Lost Ark</td>\n",
       "      <td>1981</td>\n",
       "      <td>95</td>\n",
       "      <td>101.190</td>\n",
       "      <td>Steven Spielberg</td>\n",
       "      <td>Indiana Jones (Harrison Ford) is no ordinary a...</td>\n",
       "      <td>Harrison Ford, Karen Allen, Paul Freeman, Wolf...</td>\n",
       "      <td>Featuring bravura set pieces, sly humor, and w...</td>\n",
       "    </tr>\n",
       "    <tr>\n",
       "      <th>134</th>\n",
       "      <td>Aliens</td>\n",
       "      <td>1986</td>\n",
       "      <td>97</td>\n",
       "      <td>104.072</td>\n",
       "      <td>James Cameron</td>\n",
       "      <td>Big-budget special effects, swiftly paced acti...</td>\n",
       "      <td>Sigourney Weaver, Carrie Henn, Michael Biehn, ...</td>\n",
       "      <td>While Alien was a marvel of slow-building, atm...</td>\n",
       "    </tr>\n",
       "    <tr>\n",
       "      <th>135</th>\n",
       "      <td>Lat sau san taam (Hard-Boiled)</td>\n",
       "      <td>1992</td>\n",
       "      <td>94</td>\n",
       "      <td>96.040</td>\n",
       "      <td>John Woo</td>\n",
       "      <td>Yun-Fat portrays a maverick, clarinet-playing ...</td>\n",
       "      <td>Yun-Fat Chow, Tony Leung Chiu Wai, Anthony Won...</td>\n",
       "      <td>Boasting impactful action as well as surprisin...</td>\n",
       "    </tr>\n",
       "    <tr>\n",
       "      <th>136</th>\n",
       "      <td>The Matrix</td>\n",
       "      <td>1999</td>\n",
       "      <td>87</td>\n",
       "      <td>93.701</td>\n",
       "      <td>Lilly Wachowski</td>\n",
       "      <td>What if virtual reality wasn't just for fun, b...</td>\n",
       "      <td>Keanu Reeves, Laurence Fishburne, Carrie-Anne ...</td>\n",
       "      <td>Thanks to the Wachowskis' imaginative vision, ...</td>\n",
       "    </tr>\n",
       "    <tr>\n",
       "      <th>137</th>\n",
       "      <td>Terminator 2: Judgment Day</td>\n",
       "      <td>1991</td>\n",
       "      <td>93</td>\n",
       "      <td>99.151</td>\n",
       "      <td>James Cameron</td>\n",
       "      <td>A sequel to the sci-fi action thriller that ma...</td>\n",
       "      <td>Arnold Schwarzenegger, Linda Hamilton, Edward ...</td>\n",
       "      <td>T2 features thrilling action sequences and eye...</td>\n",
       "    </tr>\n",
       "    <tr>\n",
       "      <th>138</th>\n",
       "      <td>Die Hard</td>\n",
       "      <td>1988</td>\n",
       "      <td>93</td>\n",
       "      <td>98.788</td>\n",
       "      <td>John McTiernan</td>\n",
       "      <td>It's Christmas time in L.A., and there's an em...</td>\n",
       "      <td>Bruce Willis, Alan Rickman, Reginald VelJohnso...</td>\n",
       "      <td>Its many imitators (and sequels) have never co...</td>\n",
       "    </tr>\n",
       "    <tr>\n",
       "      <th>139</th>\n",
       "      <td>Mad Max: Fury Road</td>\n",
       "      <td>2015</td>\n",
       "      <td>97</td>\n",
       "      <td>113.379</td>\n",
       "      <td>George Miller</td>\n",
       "      <td>Filmmaker George Miller gears up for another p...</td>\n",
       "      <td>Tom Hardy, Charlize Theron, Nicholas Hoult, Ro...</td>\n",
       "      <td>With exhilarating action and a surprising amou...</td>\n",
       "    </tr>\n",
       "  </tbody>\n",
       "</table>\n",
       "<p>140 rows × 8 columns</p>\n",
       "</div>"
      ],
      "text/plain": [
       "                                           Movie Title  Year  scores  \\\n",
       "0                                       Running Scared  1986      60   \n",
       "1                                          Equilibrium  2002      40   \n",
       "2                                                 Hero  2004      95   \n",
       "3                                           Road House  1989      39   \n",
       "4                                          Unstoppable  2010      86   \n",
       "5                                                Shaft  1971      88   \n",
       "6                             The Villainess (Ak-Nyeo)  2017      84   \n",
       "7                                           Highlander  1986      69   \n",
       "8                                           Die Hard 2  1990      68   \n",
       "9                                    National Treasure  2004      46   \n",
       "10        The Protector (Tom yum goong) (Warrior King)  2005      53   \n",
       "11                                             Revenge  2018      92   \n",
       "12                                         El Mariachi  1993      93   \n",
       "13                                      A Touch of Zen  1969      96   \n",
       "14                                             Top Gun  1986      54   \n",
       "15                                             Con Air  1997      55   \n",
       "16                                   The Expendables 2  2012      68   \n",
       "17                                           The Mummy  1999      60   \n",
       "18                                    Mr. & Mrs. Smith  2005      60   \n",
       "19                                           Rush Hour  1998      60   \n",
       "20                                       The Equalizer  2014      59   \n",
       "21                          Captain America: Civil War  2016      91   \n",
       "22                                       Air Force One  1997      76   \n",
       "23                                          Bloodsport  1988      40   \n",
       "24                                               Blade  1998      55   \n",
       "25                                            Bad Boys  1995      43   \n",
       "26                          Die Hard: With a Vengeance  1995      52   \n",
       "27                                     The Running Man  1987      63   \n",
       "28                                     Code of Silence  1985      63   \n",
       "29                                        Shoot 'Em Up  2007      67   \n",
       "..                                                 ...   ...     ...   \n",
       "110                                        Baby Driver  2017      93   \n",
       "111                Fist of Legend (Jing wu ying xiong)  1994     100   \n",
       "112                                         The Killer  1989      98   \n",
       "113                                         The Raid 2  2014      80   \n",
       "114                                   Enter the Dragon  1973      94   \n",
       "115                                           Commando  1985      71   \n",
       "116                                        First Blood  1982      87   \n",
       "117                   Mission: Impossible Rogue Nation  2015      93   \n",
       "118                                     The Terminator  1984     100   \n",
       "119                                          Gladiator  2000      76   \n",
       "120                                Kill Bill: Volume 1  2003      85   \n",
       "121                             Léon: The Professional  1994      73   \n",
       "122                                              Speed  1994      94   \n",
       "123  The Legend of Drunken Master (Jui kuen II) (Dr...  1994      83   \n",
       "124                                          John Wick  2014      86   \n",
       "125                     Crouching Tiger, Hidden Dragon  2001      97   \n",
       "126                                           Predator  1987      81   \n",
       "127                               The Bourne Ultimatum  2007      92   \n",
       "128                                       Total Recall  1990      82   \n",
       "129                        Mad Max 2: The Road Warrior  1982      95   \n",
       "130                                               Heat  1995      86   \n",
       "131                               The Raid: Redemption  2012      86   \n",
       "132                      Mission: Impossible - Fallout  2018      97   \n",
       "133                            Raiders of the Lost Ark  1981      95   \n",
       "134                                             Aliens  1986      97   \n",
       "135                     Lat sau san taam (Hard-Boiled)  1992      94   \n",
       "136                                         The Matrix  1999      87   \n",
       "137                         Terminator 2: Judgment Day  1991      93   \n",
       "138                                           Die Hard  1988      93   \n",
       "139                                 Mad Max: Fury Road  2015      97   \n",
       "\n",
       "     Adjusted Scores               Director  \\\n",
       "0             61.182            Peter Hyams   \n",
       "1             41.992            Kurt Wimmer   \n",
       "2            100.762            Zhang Yimou   \n",
       "3             41.986       Rowdy Herrington   \n",
       "4             91.476             Tony Scott   \n",
       "5             92.024           Gordon Parks   \n",
       "6             86.913         Jung Byung-gil   \n",
       "7             71.927        Russell Mulcahy   \n",
       "8             72.291           Renny Harlin   \n",
       "9             50.848         Jon Turteltaub   \n",
       "10            55.433        Prachya Pinkaew   \n",
       "11            97.082        Coralie Fargeat   \n",
       "12            94.586       Robert Rodriguez   \n",
       "13            98.512                King Hu   \n",
       "14            59.109             Tony Scott   \n",
       "15            58.684             Simon West   \n",
       "16            72.297             Simon West   \n",
       "17            63.980        Stephen Sommers   \n",
       "18            67.125             Doug Liman   \n",
       "19            63.714           Brett Ratner   \n",
       "20            66.576          Antoine Fuqua   \n",
       "21           107.382          Anthony Russo   \n",
       "22            78.964      Wolfgang Petersen   \n",
       "23            41.233            Newt Arnold   \n",
       "24            60.586     Stephen Norrington   \n",
       "25            46.857            Michael Bay   \n",
       "26            55.781         John McTiernan   \n",
       "27            65.909    Paul Michael Glaser   \n",
       "28            63.693           Andrew Davis   \n",
       "29            72.113          Michael Davis   \n",
       "..               ...                    ...   \n",
       "110          109.173           Edgar Wright   \n",
       "111           76.733            Gordon Chan   \n",
       "112          100.624               John Woo   \n",
       "113           86.320           Gareth Evans   \n",
       "114           98.664          Robert Clouse   \n",
       "115           73.030         Mark L. Lester   \n",
       "116           90.887           Ted Kotcheff   \n",
       "117          105.297  Christopher McQuarrie   \n",
       "118          104.847          James Cameron   \n",
       "119           83.199           Ridley Scott   \n",
       "120           91.871      Quentin Tarantino   \n",
       "121           76.912             Luc Besson   \n",
       "122           97.911            Jan de Bont   \n",
       "123           87.755          Lau Kar-Leung   \n",
       "124           94.225           David Leitch   \n",
       "125          101.918                Ang Lee   \n",
       "126           84.576         John McTiernan   \n",
       "127          101.023        Paul Greengrass   \n",
       "128           86.711         Paul Verhoeven   \n",
       "129           98.778          George Miller   \n",
       "130           91.245           Michael Mann   \n",
       "131           91.682           Gareth Evans   \n",
       "132          115.612  Christopher McQuarrie   \n",
       "133          101.190       Steven Spielberg   \n",
       "134          104.072          James Cameron   \n",
       "135           96.040               John Woo   \n",
       "136           93.701        Lilly Wachowski   \n",
       "137           99.151          James Cameron   \n",
       "138           98.788         John McTiernan   \n",
       "139          113.379          George Miller   \n",
       "\n",
       "                                              Synopsis  \\\n",
       "0    Distinguished by a sharp, witty dialogue betwe...   \n",
       "1    In the nation of Libria, there is always peace...   \n",
       "2    Hero is two-time Academy Award nominee Zhang Y...   \n",
       "3    Dalton (Swayze) is a true gentleman with a deg...   \n",
       "4    In this action thriller from director Tony Sco...   \n",
       "5    Shaft, a highly successful film, spawned an in...   \n",
       "6    Since she was a little girl, Sook-hee was rais...   \n",
       "7    Among humans for centuries, an immortal specie...   \n",
       "8    \"Another basement, another elevator...how can ...   \n",
       "9    Benjamin Franklin Gates is a third generation ...   \n",
       "10   Kham's life is turned upside down when an inte...   \n",
       "11   Jen (fearlessly embodied by Matilda Lutz, Ring...   \n",
       "12   Filmed in two weeks on a budget of 7,000 dolla...   \n",
       "13   According to this drama, set in 14th-century C...   \n",
       "14   Devil-may-care navy pilot Pete Mitchell (Tom C...   \n",
       "15   Former war hero Cameron Poe (Nicolas Cage) is ...   \n",
       "16   The Expendables are back and this time it's pe...   \n",
       "17   Loosely adapted from the classic 1932 horror f...   \n",
       "18   John and Jane Smith are an ordinary suburban c...   \n",
       "19   Brett Ratner directed this action-comedy that ...   \n",
       "20   In The Equalizer, Denzel Washington plays McCa...   \n",
       "21   Marvel's \"Captain America: Civil War\" finds St...   \n",
       "22   In this action drama, Harrison Ford plays Jame...   \n",
       "23   U.S. soldier Frank Dux (Jean-Claude Van Damme)...   \n",
       "24   British director Stephen Norrington helmed thi...   \n",
       "25   Former video director Michael Bay had his firs...   \n",
       "26   Bruce Willis returns as misfit cop John McClan...   \n",
       "27   An unjustly accused prisoner in 2019 is given ...   \n",
       "28   Not to be confused with the 1960 film of the s...   \n",
       "29   A mysterious man delivers a baby during a shoo...   \n",
       "..                                                 ...   \n",
       "110  A talented, young getaway driver (Ansel Elgort...   \n",
       "111  Jet Li stars in this historical Hong Kong acti...   \n",
       "112  Chow Yun-Fat, director John Woo's favorite act...   \n",
       "113  He thought it was over. After fighting his way...   \n",
       "114  One of the most popular kung fu films ever, an...   \n",
       "115  Colonel Matrix (Arnold Schwarzenegger) is reti...   \n",
       "116  A former Green Beret must use all of the guerr...   \n",
       "117  With the IMF disbanded, and Ethan (Tom Cruise)...   \n",
       "118  A Cyborg has been sent from the future on a de...   \n",
       "119  A man robbed of his name and his dignity striv...   \n",
       "120  An entire wedding party is slaughtered during ...   \n",
       "121  As visually stylish as it is graphically viole...   \n",
       "122  If you don't think Speed is the fastest-moving...   \n",
       "123  Jackie Chan returns in one of his greatest rol...   \n",
       "124  An ex-hitman comes out of retirement to track ...   \n",
       "125  Taiwanese filmmaker Ang Lee took a break from ...   \n",
       "126  Dutch (Arnold Schwarzenegger) has a code of ho...   \n",
       "127  Jason Bourne (Matt Damon) races to solve the m...   \n",
       "128  In Paul Verhoeven's wild sci-fi action movie T...   \n",
       "129  Director George Miller's follow-up to his own ...   \n",
       "130  A successful career criminal considers getting...   \n",
       "131  As a rookie member of an elite special-forces ...   \n",
       "132  The best intentions often come back to haunt y...   \n",
       "133  Indiana Jones (Harrison Ford) is no ordinary a...   \n",
       "134  Big-budget special effects, swiftly paced acti...   \n",
       "135  Yun-Fat portrays a maverick, clarinet-playing ...   \n",
       "136  What if virtual reality wasn't just for fun, b...   \n",
       "137  A sequel to the sci-fi action thriller that ma...   \n",
       "138  It's Christmas time in L.A., and there's an em...   \n",
       "139  Filmmaker George Miller gears up for another p...   \n",
       "\n",
       "                                                  cast  \\\n",
       "0    Gregory Hines, Billy Crystal, Jimmy Smits, Ste...   \n",
       "1    Christian Bale, Emily Watson, Taye Diggs, Angu...   \n",
       "2    Jet Li, Tony Leung Chiu Wai, Maggie Cheung, Da...   \n",
       "3    Patrick Swayze, Kelly Lynch, Sam Elliott, Ben ...   \n",
       "4    Denzel Washington, Chris Pine, Rosario Dawson,...   \n",
       "5    Richard Roundtree, Moses Gunn, Gwen Mitchell, ...   \n",
       "6    Ok-bin Kim, Kim Seo-hyung, Shin Ha-kyun, Bang ...   \n",
       "7    Christopher Lambert, Sean Connery, Roxanne Har...   \n",
       "8    Bruce Willis, Bonnie Bedelia, William Atherton...   \n",
       "9    Nicolas Cage, Diane Kruger, Justin Bartha, Sea...   \n",
       "10   Tony Jaa, Petchtai Wongkamlao, Bongkoj Khongma...   \n",
       "11   Matilda Anna Ingrid Lutz, Kevin Janssens, Vinc...   \n",
       "12   Carlos Gallardo, Consuelo Gómez, Reinol Martin...   \n",
       "13            Feng Hsu, Chun Shih, Pai Ying, Tien Peng   \n",
       "14   Tom Cruise, Kelly McGillis, Anthony Edwards, V...   \n",
       "15   Nicolas Cage, John Cusack, John Malkovich, Ste...   \n",
       "16   Sylvester Stallone, Jason Statham, Jet Li, Dol...   \n",
       "17   Brendan Fraser, Rachel Weisz, John Hannah, Arn...   \n",
       "18   Brad Pitt, Angelina Jolie, Vince Vaughn, Adam ...   \n",
       "19   Jackie Chan, Chris Tucker, Elizabeth Peña, Tom...   \n",
       "20   Denzel Washington, Marton Csokas, Chloë Grace ...   \n",
       "21   Chris Evans, Robert Downey Jr., Scarlett Johan...   \n",
       "22   Gary Oldman, Harrison Ford, Glenn Close, Wendy...   \n",
       "23   Jean-Claude Van Damme, Leah Ayres, Donald Gibb...   \n",
       "24   Wesley Snipes, Stephen Dorff, Kris Kristoffers...   \n",
       "25   Martin Lawrence, Will Smith, Téa Leoni, Tcheky...   \n",
       "26   Bruce Willis, Jeremy Irons, Samuel L. Jackson,...   \n",
       "27   Arnold Schwarzenegger, Maria Conchita Alonso, ...   \n",
       "28   Chuck Norris, Henry Silva, Bert Remsen, Mike G...   \n",
       "29   Clive Owen, Paul Giamatti, Monica Bellucci, St...   \n",
       "..                                                 ...   \n",
       "110  Ansel Elgort, Kevin Spacey, Lily James, Jon Be...   \n",
       "111  Jet Li, Paul Chiang, Yasuaki Kurata, Shinobu N...   \n",
       "112  Yun-Fat Chow, Sally Yeh, Danny Lee, Kenneth Tsang   \n",
       "113  Iko Uwais, Yahan Ruhian, Arifin Putra, Oka Antara   \n",
       "114        Bruce Lee, John Saxon, Jim Kelly, Shih Kien   \n",
       "115  Arnold Schwarzenegger, Alyssa Milano, Rae Dawn...   \n",
       "116  Sylvester Stallone, Richard Crenna, Brian Denn...   \n",
       "117  Tom Cruise, Jeremy Renner, Ving Rhames, Simon ...   \n",
       "118  Arnold Schwarzenegger, Linda Hamilton, Michael...   \n",
       "119  Russell Crowe, Joaquin Phoenix, Connie Nielsen...   \n",
       "120  Uma Thurman, Lucy Liu, Vivica A. Fox, David Ca...   \n",
       "121  Jean Reno, Gary Oldman, Natalie Portman, Danny...   \n",
       "122  Keanu Reeves, Dennis Hopper, Sandra Bullock, J...   \n",
       "123  Jackie Chan, Siu Tin Yuen, Jang Lee Hwang, Kau...   \n",
       "124  Keanu Reeves, Michael Nyqvist, Alfie Allen, Ad...   \n",
       "125  Yun-Fat Chow, Michelle Yeoh, Ziyi Zhang, Chen ...   \n",
       "126  Arnold Schwarzenegger, Carl Weathers, Elpidia ...   \n",
       "127  Matt Damon, Julia Stiles, David Strathairn, Sc...   \n",
       "128  Arnold Schwarzenegger, Rachel Ticotin, Sharon ...   \n",
       "129  Mel Gibson, Bruce Spence, Vernon Wells, Emil M...   \n",
       "130  Al Pacino, Robert De Niro, Val Kilmer, Jon Voight   \n",
       "131  Iko Uwais, Joe Taslim, Doni Alamsyah, Yahan Ru...   \n",
       "132  Tom Cruise, Henry Cavill, Ving Rhames, Simon Pegg   \n",
       "133  Harrison Ford, Karen Allen, Paul Freeman, Wolf...   \n",
       "134  Sigourney Weaver, Carrie Henn, Michael Biehn, ...   \n",
       "135  Yun-Fat Chow, Tony Leung Chiu Wai, Anthony Won...   \n",
       "136  Keanu Reeves, Laurence Fishburne, Carrie-Anne ...   \n",
       "137  Arnold Schwarzenegger, Linda Hamilton, Edward ...   \n",
       "138  Bruce Willis, Alan Rickman, Reginald VelJohnso...   \n",
       "139  Tom Hardy, Charlize Theron, Nicholas Hoult, Ro...   \n",
       "\n",
       "                                             Consensus  \n",
       "0    Running Scared struggles to strike a consisten...  \n",
       "1    Equilibrium is a reheated mishmash of other sc...  \n",
       "2    With death-defying action sequences and epic h...  \n",
       "3    Whether Road House is simply bad or so bad it'...  \n",
       "4    As fast, loud, and relentless as the train at ...  \n",
       "5    This is the man that would risk his neck for h...  \n",
       "6    The Villainess offers enough pure kinetic thri...  \n",
       "7    People hate Highlander because it's cheesy, bo...  \n",
       "8    It lacks the fresh thrills of its predecessor,...  \n",
       "9    National Treasure is no treasure, but it's a f...  \n",
       "10   Despite some impressive fight scenes, this tri...  \n",
       "11   Revenge slices and dices genre tropes, working...  \n",
       "12   Made on a shoestring budget, El Mariachi's sto...  \n",
       "13   A brilliantly directed feast for the eyes with...  \n",
       "14   Though it features some of the most memorable ...  \n",
       "15   Con Air won't win any awards for believability...  \n",
       "16   Taut, violent, and suitably self-deprecating, ...  \n",
       "17   It's difficult to make a persuasive argument f...  \n",
       "18   Although this action-romance suffers from weak...  \n",
       "19    A kick-ass addition to the cop-buddy film genre.  \n",
       "20   The Equalizer is more stylishly violent than m...  \n",
       "21   Captain America: Civil War begins the next wav...  \n",
       "22   This late-period Harrison Ford actioner is ful...  \n",
       "23   This is where it all began for the Muscles fro...  \n",
       "24   Though some may find the plot a bit lacking, B...  \n",
       "25   Bad Boys stars Will Smith and Martin Lawrence ...  \n",
       "26   Die Hard with a Vengeance benefits from Bruce ...  \n",
       "27   The Running Man is winking sci-fi satire with ...  \n",
       "28                                   No consensus yet.  \n",
       "29   As preposterous and over-the-top as Shoot 'Em ...  \n",
       "..                                                 ...  \n",
       "110  Stylish, exciting, and fueled by a killer soun...  \n",
       "111                                  No consensus yet.  \n",
       "112  The Killer is another hard-boiled action flick...  \n",
       "113  Although its high-energy plot and over-the-top...  \n",
       "114  Badass to the max, Enter the Dragon is the ult...  \n",
       "115  The ultimate '80s Schwarzenegger movie, replet...  \n",
       "116  Much darker and more sensitive than the sequel...  \n",
       "117  Mission: Impossible Rogue Nation continues the...  \n",
       "118  With its impressive action sequences, taut eco...  \n",
       "119  Ridley Scott and an excellent cast successfull...  \n",
       "120  Kill Bill is admittedly little more than a sty...  \n",
       "121  Pivoting on the unusual relationship between s...  \n",
       "122  A terrific popcorn thriller, Speed is taut, te...  \n",
       "123  Jackie Chan sends up some amazing and entertai...  \n",
       "124  Stylish, thrilling, and giddily kinetic, John ...  \n",
       "125  The movie that catapulted Ang Lee into the ran...  \n",
       "126  Predator: Part sci-fi, part horror, part actio...  \n",
       "127  The Bourne Ultimatum is an intelligent, finely...  \n",
       "128  Under Paul Verhoeven's frenetic direction, Tot...  \n",
       "129  The Road Warrior is everything a bigger-budget...  \n",
       "130  Though Al Pacino and Robert De Niro share but ...  \n",
       "131  No frills and all thrills, The Raid: Redemptio...  \n",
       "132  Fast, sleek, and fun, Mission: Impossible - Fa...  \n",
       "133  Featuring bravura set pieces, sly humor, and w...  \n",
       "134  While Alien was a marvel of slow-building, atm...  \n",
       "135  Boasting impactful action as well as surprisin...  \n",
       "136  Thanks to the Wachowskis' imaginative vision, ...  \n",
       "137  T2 features thrilling action sequences and eye...  \n",
       "138  Its many imitators (and sequels) have never co...  \n",
       "139  With exhilarating action and a surprising amou...  \n",
       "\n",
       "[140 rows x 8 columns]"
      ]
     },
     "execution_count": 44,
     "metadata": {},
     "output_type": "execute_result"
    }
   ],
   "source": [
    "movies_info = pd.DataFrame()\n",
    "\n",
    "movies_info['Movie Title']=movie_names\n",
    "movies_info['Year']=years\n",
    "movies_info['scores']=original_scores\n",
    "movies_info['Adjusted Scores']=ad_scores\n",
    "movies_info['Director']=directors\n",
    "movies_info['Synopsis']=synopsis_text\n",
    "movies_info['cast']=cast\n",
    "movies_info['Consensus']=consensus_text\n",
    "\n",
    "movies_info"
   ]
  },
  {
   "cell_type": "markdown",
   "metadata": {},
   "source": [
    "## Conclusion\n",
    "\n",
    "Here, we performed a form of ETL using web scraping. We **Extracted** data from the web page,  and **transformed** it into meaningful data and finally **Loaded** the data into a Data Frame. "
   ]
  }
 ],
 "metadata": {
  "kernelspec": {
   "display_name": "Python 3",
   "language": "python",
   "name": "python3"
  },
  "language_info": {
   "codemirror_mode": {
    "name": "ipython",
    "version": 3
   },
   "file_extension": ".py",
   "mimetype": "text/x-python",
   "name": "python",
   "nbconvert_exporter": "python",
   "pygments_lexer": "ipython3",
   "version": "3.7.3"
  }
 },
 "nbformat": 4,
 "nbformat_minor": 2
}
